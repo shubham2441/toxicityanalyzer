{
 "cells": [
  {
   "cell_type": "code",
   "execution_count": 1,
   "metadata": {},
   "outputs": [],
   "source": [
    "import numpy as np\n",
    "import pandas as pd\n",
    "import matplotlib.pyplot as plt\n",
    "import seaborn as sns\n",
    "from nltk.tokenize import word_tokenize\n",
    "from nltk.corpus import stopwords\n",
    "from nltk.stem import WordNetLemmatizer\n",
    "from sklearn.feature_extraction.text import TfidfVectorizer\n",
    "from sklearn.model_selection import train_test_split\n",
    "from sklearn.metrics import accuracy_score, confusion_matrix\n",
    "from sklearn.linear_model import LogisticRegression\n",
    "from sklearn.multiclass import OneVsRestClassifier"
   ]
  },
  {
   "cell_type": "code",
   "execution_count": 2,
   "metadata": {},
   "outputs": [],
   "source": [
    "toxic_data = pd.read_csv('train.csv')"
   ]
  },
  {
   "cell_type": "code",
   "execution_count": 3,
   "metadata": {},
   "outputs": [],
   "source": [
    "#Dataframe for the toxic comments\n",
    "df_x = pd.DataFrame(toxic_data.iloc[:,1].values)\n",
    "y = pd.DataFrame(toxic_data.iloc[:,2:8].values)\n",
    "y.columns = ['toxic', 'severe_toxic', 'obscene', 'threat', 'insult', 'identity_hate']\n",
    "df_x.columns = ['Comments']"
   ]
  },
  {
   "cell_type": "code",
   "execution_count": 4,
   "metadata": {},
   "outputs": [],
   "source": [
    "#To tokenise the words in the comments\n",
    "tokens = []\n",
    "for i in range(len(df_x)):\n",
    "    tokens.append(word_tokenize(df_x['Comments'].iloc[i].lower()))"
   ]
  },
  {
   "cell_type": "code",
   "execution_count": 5,
   "metadata": {},
   "outputs": [],
   "source": [
    "#Eniglish Stopwords\n",
    "english_stopwords = stopwords.words('english')\n",
    "english_stopwords.extend(['.',',',':','\"\"',';','/','?','=','|','!','@','#','$','%','^','&','*','(',')','_','-','+','{','}','`','~','[',']','<','>','``',])"
   ]
  },
  {
   "cell_type": "code",
   "execution_count": 6,
   "metadata": {},
   "outputs": [],
   "source": [
    "#Removing the Stopwords\n",
    "words = []\n",
    "for i in tokens:\n",
    "    main_words = []\n",
    "    for j in i:\n",
    "        if j not in english_stopwords:\n",
    "            main_words.append(j)\n",
    "    words.append(main_words)          "
   ]
  },
  {
   "cell_type": "code",
   "execution_count": 7,
   "metadata": {},
   "outputs": [],
   "source": [
    "#Lemaatizing the Data\n",
    "wnet = WordNetLemmatizer()\n",
    "for _ in range(len(words)):\n",
    "    for __ in range(len(words[_])) :\n",
    "        temp = wnet.lemmatize(words[_][__], pos = 'v')\n",
    "        words[_][__] = temp"
   ]
  },
  {
   "cell_type": "code",
   "execution_count": 8,
   "metadata": {},
   "outputs": [],
   "source": [
    "for i in range(len(words)):\n",
    "    words[i] = ' '.join(words[i])"
   ]
  },
  {
   "cell_type": "code",
   "execution_count": 9,
   "metadata": {},
   "outputs": [],
   "source": [
    "#Turning the text into Vectors\n",
    "tfidf = TfidfVectorizer()\n",
    "vect = tfidf.fit_transform(words)"
   ]
  },
  {
   "cell_type": "code",
   "execution_count": 10,
   "metadata": {},
   "outputs": [],
   "source": [
    "#Train And Test Data Split\n",
    "x_train,x_test,y_train,y_test = train_test_split(vect,y,test_size=0.25)"
   ]
  },
  {
   "cell_type": "code",
   "execution_count": 11,
   "metadata": {},
   "outputs": [
    {
     "name": "stderr",
     "output_type": "stream",
     "text": [
      "D:\\Machine Learning\\lib\\site-packages\\sklearn\\linear_model\\logistic.py:433: FutureWarning: Default solver will be changed to 'lbfgs' in 0.22. Specify a solver to silence this warning.\n",
      "  FutureWarning)\n"
     ]
    },
    {
     "data": {
      "text/plain": [
       "OneVsRestClassifier(estimator=LogisticRegression(C=1.0, class_weight=None, dual=False, fit_intercept=True,\n",
       "          intercept_scaling=1, max_iter=100, multi_class='warn',\n",
       "          n_jobs=None, penalty='l2', random_state=None, solver='warn',\n",
       "          tol=0.0001, verbose=0, warm_start=False),\n",
       "          n_jobs=None)"
      ]
     },
     "execution_count": 11,
     "metadata": {},
     "output_type": "execute_result"
    }
   ],
   "source": [
    "#logistic Regression and Multi-Label Classifier\n",
    "lr = LogisticRegression()\n",
    "clf = OneVsRestClassifier(lr)\n",
    "clf.fit(x_train, y_train)"
   ]
  },
  {
   "cell_type": "code",
   "execution_count": 12,
   "metadata": {},
   "outputs": [],
   "source": [
    "#Predicting the values\n",
    "y_pred_1 = clf.predict(x_test)"
   ]
  },
  {
   "cell_type": "code",
   "execution_count": 13,
   "metadata": {},
   "outputs": [
    {
     "data": {
      "text/plain": [
       "0.9166771112726544"
      ]
     },
     "execution_count": 13,
     "metadata": {},
     "output_type": "execute_result"
    }
   ],
   "source": [
    "#Accuracy check\n",
    "accuracy_score(y_test, y_pred_1)"
   ]
  },
  {
   "cell_type": "code",
   "execution_count": 14,
   "metadata": {},
   "outputs": [],
   "source": [
    "#Function to Identify the type of toxicity\n",
    "def prediction(vector):\n",
    "    y_pred = clf.predict(vector)\n",
    "    \n",
    "    df_prediction = pd.DataFrame(y_pred)\n",
    "    df_prediction.columns = ['toxic', 'severe_toxic', 'obscene', 'threat', 'insult', 'identity_hate']\n",
    "    \n",
    "    main_list = []\n",
    "    for i in df_prediction.index:\n",
    "        for j in df_prediction:\n",
    "            if df_prediction[j][i] == 1:\n",
    "                main_list.append(j)\n",
    "    print(main_list)"
   ]
  },
  {
   "cell_type": "code",
   "execution_count": 15,
   "metadata": {},
   "outputs": [],
   "source": [
    "#Function to covert the Data into Vector\n",
    "def textprocessing(comment):\n",
    "    text = [comment]\n",
    "    tokens = []\n",
    "    for i in range(len(text)):\n",
    "        tokens.append(word_tokenize(text[i].lower()))\n",
    "        \n",
    "    english_stopwords = stopwords.words('english')\n",
    "    english_stopwords.extend(['.',',',':','\"\"',';','/','?','=','|','!','@','#','$','%','^','&','*','(',')','_','-','+','{','}','`','~','[',']','<','>','``',])\n",
    "    \n",
    "    words = []\n",
    "    for i in tokens:\n",
    "        main_words = []\n",
    "        for j in i:\n",
    "            if j not in english_stopwords:\n",
    "                main_words.append(j)\n",
    "        words.append(main_words)\n",
    "        \n",
    "    wnet = WordNetLemmatizer()\n",
    "    for _ in range(len(words)):\n",
    "        for __ in range(len(words[_])):\n",
    "            temp = wnet.lemmatize(words[_][__], pos = 'v')\n",
    "            words[_][__] = temp\n",
    "        \n",
    "    for i in range(len(words)):\n",
    "        words[i] = ' '.join(words[i])   \n",
    "    \n",
    "    vect = tfidf.transform(words)\n",
    "    \n",
    "    prediction(vect)"
   ]
  },
  {
   "cell_type": "code",
   "execution_count": 16,
   "metadata": {},
   "outputs": [
    {
     "name": "stdout",
     "output_type": "stream",
     "text": [
      "['toxic', 'severe_toxic', 'obscene', 'threat', 'insult']\n"
     ]
    }
   ],
   "source": [
    "Done = textprocessing('You are so fucking bad and I want to kill you')"
   ]
  },
  {
   "cell_type": "code",
   "execution_count": null,
   "metadata": {},
   "outputs": [],
   "source": []
  }
 ],
 "metadata": {
  "kernelspec": {
   "display_name": "Python 3",
   "language": "python",
   "name": "python3"
  },
  "language_info": {
   "codemirror_mode": {
    "name": "ipython",
    "version": 3
   },
   "file_extension": ".py",
   "mimetype": "text/x-python",
   "name": "python",
   "nbconvert_exporter": "python",
   "pygments_lexer": "ipython3",
   "version": "3.7.1"
  }
 },
 "nbformat": 4,
 "nbformat_minor": 2
}
